{
 "cells": [
  {
   "cell_type": "code",
   "execution_count": 33,
   "metadata": {},
   "outputs": [],
   "source": [
    "import pandas as pd\n",
    "from  bs4 import BeautifulSoup\n",
    "import requests\n",
    "from warnings import filterwarnings\n",
    "filterwarnings('ignore')\n",
    "import datetime as dt\n",
    "from time import sleep"
   ]
  },
  {
   "cell_type": "markdown",
   "metadata": {},
   "source": [
    "### Краснодар"
   ]
  },
  {
   "cell_type": "code",
   "execution_count": 37,
   "metadata": {},
   "outputs": [],
   "source": [
    "def parse_minfinkubani_ru():\n",
    "    domain = 'https://minfinkubani.ru'\n",
    "    url = 'https://minfinkubani.ru/deposit_funds/selection_parameters.php'\n",
    "    \n",
    "    s = requests.Session()\n",
    "    r = s.get(url, verify=False)\n",
    "    \n",
    "    soup = BeautifulSoup(r.text)\n",
    "    parags = soup.find_all('div', {'class': 'item_mews_title'})\n",
    "    parsed = []\n",
    "\n",
    "    for p in parags:\n",
    "        ext_url = domain + p.a.attrs['href']\n",
    "        ext_content = BeautifulSoup(requests.get(ext_url, verify=False).text)\n",
    "        d = ext_url.split('=')[2]\n",
    "        if dt.datetime.strptime(d, '%d.%m.%Y') >= dt.datetime.today():\n",
    "            parsed.append([d, ext_url])\n",
    "            \n",
    "    s.close()\n",
    "    parsed = pd.DataFrame(parsed, columns=['date', 'url'])\n",
    "    \n",
    "    return parsed"
   ]
  },
  {
   "cell_type": "code",
   "execution_count": 38,
   "metadata": {},
   "outputs": [
    {
     "data": {
      "text/html": [
       "<div>\n",
       "<style scoped>\n",
       "    .dataframe tbody tr th:only-of-type {\n",
       "        vertical-align: middle;\n",
       "    }\n",
       "\n",
       "    .dataframe tbody tr th {\n",
       "        vertical-align: top;\n",
       "    }\n",
       "\n",
       "    .dataframe thead th {\n",
       "        text-align: right;\n",
       "    }\n",
       "</style>\n",
       "<table border=\"1\" class=\"dataframe\">\n",
       "  <thead>\n",
       "    <tr style=\"text-align: right;\">\n",
       "      <th></th>\n",
       "      <th>date</th>\n",
       "      <th>url</th>\n",
       "    </tr>\n",
       "  </thead>\n",
       "  <tbody>\n",
       "  </tbody>\n",
       "</table>\n",
       "</div>"
      ],
      "text/plain": [
       "Empty DataFrame\n",
       "Columns: [date, url]\n",
       "Index: []"
      ]
     },
     "execution_count": 38,
     "metadata": {},
     "output_type": "execute_result"
    }
   ],
   "source": [
    "parsed_minfinkubani = parse_minfinkubani_ru()\n",
    "parsed_minfinkubani"
   ]
  },
  {
   "cell_type": "markdown",
   "metadata": {},
   "source": [
    "### Банк России"
   ]
  },
  {
   "cell_type": "code",
   "execution_count": 39,
   "metadata": {},
   "outputs": [],
   "source": [
    "def parse_cbr_ru():\n",
    "    url = 'https://cbr.ru/DKP/DepoParams/'\n",
    "    df = pd.read_html(url)[0].iloc[:, 0]\n",
    "    tod = dt.date.today().strftime(\"%d.%m.%Y\")\n",
    "    df = df[pd.to_datetime(df, format='%d.%m.%Y') >= tod]\n",
    "    df = pd.DataFrame({'date':df.to_list(), 'url':[url] * len(df)})\n",
    "    return df"
   ]
  },
  {
   "cell_type": "code",
   "execution_count": 40,
   "metadata": {},
   "outputs": [
    {
     "data": {
      "text/html": [
       "<div>\n",
       "<style scoped>\n",
       "    .dataframe tbody tr th:only-of-type {\n",
       "        vertical-align: middle;\n",
       "    }\n",
       "\n",
       "    .dataframe tbody tr th {\n",
       "        vertical-align: top;\n",
       "    }\n",
       "\n",
       "    .dataframe thead th {\n",
       "        text-align: right;\n",
       "    }\n",
       "</style>\n",
       "<table border=\"1\" class=\"dataframe\">\n",
       "  <thead>\n",
       "    <tr style=\"text-align: right;\">\n",
       "      <th></th>\n",
       "      <th>date</th>\n",
       "      <th>url</th>\n",
       "    </tr>\n",
       "  </thead>\n",
       "  <tbody>\n",
       "  </tbody>\n",
       "</table>\n",
       "</div>"
      ],
      "text/plain": [
       "Empty DataFrame\n",
       "Columns: [date, url]\n",
       "Index: []"
      ]
     },
     "execution_count": 40,
     "metadata": {},
     "output_type": "execute_result"
    }
   ],
   "source": [
    "parsed_cbr = parse_cbr_ru()\n",
    "parsed_cbr"
   ]
  },
  {
   "cell_type": "markdown",
   "metadata": {},
   "source": [
    "### Moex"
   ]
  },
  {
   "cell_type": "code",
   "execution_count": 41,
   "metadata": {},
   "outputs": [],
   "source": [
    "def month2num(month):\n",
    "    month_dict = {\n",
    "        'января': 1,\n",
    "        'февраля': 2,\n",
    "        'марта': 3,\n",
    "        'апреля': 4,\n",
    "        'мая':5,\n",
    "        'июня': 6,\n",
    "        'июля': 7,\n",
    "        'августа': 8,\n",
    "        'сентября': 9,\n",
    "        'октября': 10,\n",
    "        'ноября': 11,\n",
    "        'декабря': 12\n",
    "    }\n",
    "    return month_dict[month]"
   ]
  },
  {
   "cell_type": "code",
   "execution_count": 42,
   "metadata": {},
   "outputs": [],
   "source": [
    "def moex_parser(kwords):\n",
    "    domain = 'https://www.moex.com/'\n",
    "    url = 'https://www.moex.com/ru/news/?ncat=114'\n",
    "    \n",
    "    r = requests.get(url).text\n",
    "    soup = BeautifulSoup(r)\n",
    "    parags = soup.find_all('a', {'class': 'news-list__link'})\n",
    "    \n",
    "    parsed = []\n",
    "\n",
    "    for p in parags:\n",
    "        full_url = domain + p.attrs['href']\n",
    "        text = p.text.lower()\n",
    "\n",
    "        for w in kwords:\n",
    "            if w not in text:\n",
    "                break\n",
    "        else:\n",
    "            action_date = p.text.lower().split('состоится')[0]\n",
    "            action_date =\\\n",
    "                f'{action_date.split()[0]}.{month2num(action_date.split()[1])}.{action_date.split()[2]}'\n",
    "            action_date = dt.datetime.strptime(action_date, '%d.%m.%Y')\n",
    "            if action_date >= dt.datetime.today():\n",
    "                parsed.append([dt.datetime.strftime(action_date, '%d.%m.%Y'),\n",
    "                               full_url\n",
    "                              ])\n",
    "\n",
    "    parsed = pd.DataFrame({'date':[x[0] for x in parsed],\n",
    "                           'url':[x[1] for x in parsed]})\n",
    "    \n",
    "    return parsed"
   ]
  },
  {
   "cell_type": "code",
   "execution_count": 43,
   "metadata": {},
   "outputs": [
    {
     "data": {
      "text/html": [
       "<div>\n",
       "<style scoped>\n",
       "    .dataframe tbody tr th:only-of-type {\n",
       "        vertical-align: middle;\n",
       "    }\n",
       "\n",
       "    .dataframe tbody tr th {\n",
       "        vertical-align: top;\n",
       "    }\n",
       "\n",
       "    .dataframe thead th {\n",
       "        text-align: right;\n",
       "    }\n",
       "</style>\n",
       "<table border=\"1\" class=\"dataframe\">\n",
       "  <thead>\n",
       "    <tr style=\"text-align: right;\">\n",
       "      <th></th>\n",
       "      <th>date</th>\n",
       "      <th>url</th>\n",
       "    </tr>\n",
       "  </thead>\n",
       "  <tbody>\n",
       "  </tbody>\n",
       "</table>\n",
       "</div>"
      ],
      "text/plain": [
       "Empty DataFrame\n",
       "Columns: [date, url]\n",
       "Index: []"
      ]
     },
     "execution_count": 43,
     "metadata": {},
     "output_type": "execute_result"
    }
   ],
   "source": [
    "words_fedkazna = ['федеральн', 'казначей']\n",
    "parsed_fedkazna = moex_parser(words_fedkazna)\n",
    "parsed_fedkazna"
   ]
  },
  {
   "cell_type": "code",
   "execution_count": 44,
   "metadata": {},
   "outputs": [
    {
     "data": {
      "text/html": [
       "<div>\n",
       "<style scoped>\n",
       "    .dataframe tbody tr th:only-of-type {\n",
       "        vertical-align: middle;\n",
       "    }\n",
       "\n",
       "    .dataframe tbody tr th {\n",
       "        vertical-align: top;\n",
       "    }\n",
       "\n",
       "    .dataframe thead th {\n",
       "        text-align: right;\n",
       "    }\n",
       "</style>\n",
       "<table border=\"1\" class=\"dataframe\">\n",
       "  <thead>\n",
       "    <tr style=\"text-align: right;\">\n",
       "      <th></th>\n",
       "      <th>date</th>\n",
       "      <th>url</th>\n",
       "    </tr>\n",
       "  </thead>\n",
       "  <tbody>\n",
       "  </tbody>\n",
       "</table>\n",
       "</div>"
      ],
      "text/plain": [
       "Empty DataFrame\n",
       "Columns: [date, url]\n",
       "Index: []"
      ]
     },
     "execution_count": 44,
     "metadata": {},
     "output_type": "execute_result"
    }
   ],
   "source": [
    "words_pfr = ['пенсион', 'фонд']\n",
    "parsed_pfr = moex_parser(words_pfr)\n",
    "parsed_pfr"
   ]
  },
  {
   "cell_type": "markdown",
   "metadata": {},
   "source": [
    "### Aggregation"
   ]
  },
  {
   "cell_type": "code",
   "execution_count": 45,
   "metadata": {},
   "outputs": [],
   "source": [
    "df = parsed_cbr.append(parsed_minfinkubani)"
   ]
  },
  {
   "cell_type": "code",
   "execution_count": 46,
   "metadata": {},
   "outputs": [],
   "source": [
    "df = df.append(parsed_fedkazna)\n",
    "df = df.append(parsed_pfr)"
   ]
  },
  {
   "cell_type": "code",
   "execution_count": 47,
   "metadata": {},
   "outputs": [
    {
     "data": {
      "text/html": [
       "<div>\n",
       "<style scoped>\n",
       "    .dataframe tbody tr th:only-of-type {\n",
       "        vertical-align: middle;\n",
       "    }\n",
       "\n",
       "    .dataframe tbody tr th {\n",
       "        vertical-align: top;\n",
       "    }\n",
       "\n",
       "    .dataframe thead th {\n",
       "        text-align: right;\n",
       "    }\n",
       "</style>\n",
       "<table border=\"1\" class=\"dataframe\">\n",
       "  <thead>\n",
       "    <tr style=\"text-align: right;\">\n",
       "      <th></th>\n",
       "      <th>date</th>\n",
       "      <th>url</th>\n",
       "    </tr>\n",
       "  </thead>\n",
       "  <tbody>\n",
       "  </tbody>\n",
       "</table>\n",
       "</div>"
      ],
      "text/plain": [
       "Empty DataFrame\n",
       "Columns: [date, url]\n",
       "Index: []"
      ]
     },
     "execution_count": 47,
     "metadata": {},
     "output_type": "execute_result"
    }
   ],
   "source": [
    "df['date'] = pd.to_datetime(df['date'], format='%d.%m.%Y')\n",
    "df.sort_values('date')"
   ]
  },
  {
   "cell_type": "markdown",
   "metadata": {},
   "source": [
    "### Writing"
   ]
  },
  {
   "cell_type": "code",
   "execution_count": 48,
   "metadata": {},
   "outputs": [],
   "source": [
    "df.to_excel('parsed_deposit_auctions.xlsx')"
   ]
  },
  {
   "cell_type": "code",
   "execution_count": null,
   "metadata": {},
   "outputs": [],
   "source": []
  }
 ],
 "metadata": {
  "kernelspec": {
   "display_name": "Python [conda env:siim]",
   "language": "python",
   "name": "conda-env-siim-py"
  },
  "language_info": {
   "codemirror_mode": {
    "name": "ipython",
    "version": 3
   },
   "file_extension": ".py",
   "mimetype": "text/x-python",
   "name": "python",
   "nbconvert_exporter": "python",
   "pygments_lexer": "ipython3",
   "version": "3.7.0"
  }
 },
 "nbformat": 4,
 "nbformat_minor": 4
}
