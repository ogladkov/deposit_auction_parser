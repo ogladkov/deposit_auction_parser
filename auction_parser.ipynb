{
 "cells": [
  {
   "cell_type": "code",
   "execution_count": null,
   "metadata": {},
   "outputs": [],
   "source": [
    "import pandas as pd\n",
    "from  bs4 import BeautifulSoup\n",
    "import requests\n",
    "from warnings import filterwarnings\n",
    "filterwarnings('ignore')\n",
    "import datetime as dt\n",
    "from time import sleep"
   ]
  },
  {
   "cell_type": "markdown",
   "metadata": {},
   "source": [
    "### Краснодар"
   ]
  },
  {
   "cell_type": "code",
   "execution_count": null,
   "metadata": {},
   "outputs": [],
   "source": [
    "def parse_minfinkubani_ru():\n",
    "    domain = 'https://minfinkubani.ru'\n",
    "    url = 'https://minfinkubani.ru/deposit_funds/selection_parameters.php'\n",
    "    \n",
    "    s = requests.Session()\n",
    "    r = s.get(url, verify=False)\n",
    "    \n",
    "    soup = BeautifulSoup(r.text)\n",
    "    parags = soup.find_all('div', {'class': 'item_mews_title'})\n",
    "    parsed = []\n",
    "\n",
    "    for p in parags:\n",
    "        ext_url = domain + p.a.attrs['href']\n",
    "        ext_content = BeautifulSoup(requests.get(ext_url, verify=False).text)\n",
    "        d = ext_url.split('=')[2]\n",
    "        if dt.datetime.strptime(d, '%d.%m.%Y') >= dt.datetime.today():\n",
    "            parsed.append([d, ext_url])\n",
    "            \n",
    "    s.close()\n",
    "    parsed = pd.DataFrame(parsed, columns=['date', 'url'])\n",
    "    \n",
    "    return parsed"
   ]
  },
  {
   "cell_type": "code",
   "execution_count": null,
   "metadata": {},
   "outputs": [],
   "source": [
    "parsed_minfinkubani = parse_minfinkubani_ru()\n",
    "parsed_minfinkubani"
   ]
  },
  {
   "cell_type": "markdown",
   "metadata": {},
   "source": [
    "### Банк России"
   ]
  },
  {
   "cell_type": "code",
   "execution_count": null,
   "metadata": {},
   "outputs": [],
   "source": [
    "def parse_cbr_ru():\n",
    "    url = 'https://cbr.ru/DKP/DepoParams/'\n",
    "    df = pd.read_html(url)[0].iloc[:, 0]\n",
    "    tod = dt.date.today().strftime(\"%d.%m.%Y\")\n",
    "    df = df[pd.to_datetime(df, format='%d.%m.%Y') >= tod]\n",
    "    df = pd.DataFrame({'date':df.to_list(), 'url':[url] * len(df)})\n",
    "    return df"
   ]
  },
  {
   "cell_type": "code",
   "execution_count": null,
   "metadata": {},
   "outputs": [],
   "source": [
    "parsed_cbr = parse_cbr_ru()\n",
    "parsed_cbr"
   ]
  },
  {
   "cell_type": "markdown",
   "metadata": {},
   "source": [
    "### Moex"
   ]
  },
  {
   "cell_type": "code",
   "execution_count": null,
   "metadata": {},
   "outputs": [],
   "source": [
    "def month2num(month):\n",
    "    month_dict = {\n",
    "        'января': 1,\n",
    "        'февраля': 2,\n",
    "        'марта': 3,\n",
    "        'апреля': 4,\n",
    "        'мая':5,\n",
    "        'июня': 6,\n",
    "        'июля': 7,\n",
    "        'августа': 8,\n",
    "        'сентября': 9,\n",
    "        'октября': 10,\n",
    "        'ноября': 11,\n",
    "        'декабря': 12\n",
    "    }\n",
    "    return month_dict[month]"
   ]
  },
  {
   "cell_type": "code",
   "execution_count": null,
   "metadata": {},
   "outputs": [],
   "source": [
    "def moex_parser(kwords):\n",
    "    domain = 'https://www.moex.com/'\n",
    "    url = 'https://www.moex.com/ru/news/?ncat=114'\n",
    "    \n",
    "    r = requests.get(url).text\n",
    "    soup = BeautifulSoup(r)\n",
    "    parags = soup.find_all('a', {'class': 'news-list__link'})\n",
    "    \n",
    "    parsed = []\n",
    "\n",
    "    for p in parags:\n",
    "        full_url = domain + p.attrs['href']\n",
    "        text = p.text.lower()\n",
    "\n",
    "        for w in kwords:\n",
    "            if w not in text:\n",
    "                break\n",
    "        else:\n",
    "            try:\n",
    "                action_date = p.text.lower().split('состоится')[0]\n",
    "                action_date = f'{action_date.split()[0]}.{month2num(action_date.split()[1])}.{action_date.split()[2]}'\n",
    "                action_date = dt.datetime.strptime(action_date, '%d.%m.%Y')\n",
    "                if action_date >= dt.datetime.today():\n",
    "                    parsed.append([dt.datetime.strftime(action_date, '%d.%m.%Y'),\n",
    "                                   full_url\n",
    "                                  ])\n",
    "            except KeyError:\n",
    "                continue\n",
    "\n",
    "    parsed = pd.DataFrame({'date':[x[0] for x in parsed],\n",
    "                           'url':[x[1] for x in parsed]})\n",
    "    \n",
    "    return parsed"
   ]
  },
  {
   "cell_type": "code",
   "execution_count": null,
   "metadata": {},
   "outputs": [],
   "source": [
    "words_fedkazna = ['федеральн', 'казначей']\n",
    "parsed_fedkazna = moex_parser(words_fedkazna)\n",
    "parsed_fedkazna"
   ]
  },
  {
   "cell_type": "code",
   "execution_count": null,
   "metadata": {},
   "outputs": [],
   "source": [
    "words_pfr = ['пенсион', 'фонд']\n",
    "parsed_pfr = moex_parser(words_pfr)\n",
    "parsed_pfr"
   ]
  },
  {
   "cell_type": "markdown",
   "metadata": {},
   "source": [
    "###  Комитет финансов СПБ"
   ]
  },
  {
   "cell_type": "code",
   "execution_count": null,
   "metadata": {},
   "outputs": [],
   "source": [
    "from selenium import webdriver\n",
    "from selenium.webdriver.firefox.options import Options\n",
    "from time import sleep"
   ]
  },
  {
   "cell_type": "code",
   "execution_count": null,
   "metadata": {},
   "outputs": [],
   "source": [
    "def com_spb_parser(kwords):\n",
    "    options = Options()\n",
    "    options.headless = True\n",
    "    driver = webdriver.Firefox(options=options)\n",
    "    url = 'https://комфинспб.рф/committees/news/'\n",
    "    parsed = []\n",
    "    \n",
    "    driver.get(url)\n",
    "    sleep(10)\n",
    "    html = driver.page_source\n",
    "    soup = BeautifulSoup(html)\n",
    "    h3_list = soup.findAll('h3')\n",
    "\n",
    "    for e in h3_list:\n",
    "        text = e.text\n",
    "        url_id = e['data-id']\n",
    "        news_url = url + url_id\n",
    "\n",
    "        for k in kwords:\n",
    "            if k not in text:\n",
    "                break\n",
    "        else:\n",
    "            text, date = text.split(' - ')\n",
    "            action_date = dt.datetime.strptime(date, '%d.%m.%Y')\n",
    "            if action_date >= dt.datetime.today():\n",
    "                    parsed.append([dt.datetime.strftime(action_date, '%d.%m.%Y'),\n",
    "                                   news_url\n",
    "                                  ])\n",
    "\n",
    "    parsed = pd.DataFrame({'date':[x[0] for x in parsed],\n",
    "                               'url':[x[1] for x in parsed]})\n",
    "    \n",
    "    driver.close()\n",
    "\n",
    "    return parsed"
   ]
  },
  {
   "cell_type": "code",
   "execution_count": null,
   "metadata": {},
   "outputs": [],
   "source": [
    "words_comspb = ['провед', 'депозит']\n",
    "parsed_comspb = com_spb_parser(words_fedkazna)\n",
    "parsed_comspb"
   ]
  },
  {
   "cell_type": "markdown",
   "metadata": {},
   "source": [
    "### Aggregation"
   ]
  },
  {
   "cell_type": "code",
   "execution_count": null,
   "metadata": {},
   "outputs": [],
   "source": [
    "df = parsed_cbr.append(parsed_minfinkubani)\n",
    "df = df.append(parsed_fedkazna)\n",
    "df = df.append(parsed_pfr)\n",
    "df = df.append(parsed_comspb)"
   ]
  },
  {
   "cell_type": "code",
   "execution_count": null,
   "metadata": {},
   "outputs": [],
   "source": [
    "df['date'] = pd.to_datetime(df['date'], format='%d.%m.%Y')\n",
    "df = df.sort_values('date')\n",
    "df"
   ]
  },
  {
   "cell_type": "markdown",
   "metadata": {},
   "source": [
    "### Writing"
   ]
  },
  {
   "cell_type": "code",
   "execution_count": null,
   "metadata": {},
   "outputs": [],
   "source": [
    "df.to_excel('parsed_deposit_auctions.xlsx')"
   ]
  },
  {
   "cell_type": "markdown",
   "metadata": {},
   "source": [
    "### Mailing"
   ]
  },
  {
   "cell_type": "code",
   "execution_count": null,
   "metadata": {},
   "outputs": [],
   "source": [
    "from smtplib import SMTP_SSL\n",
    "from email.mime.multipart import MIMEMultipart\n",
    "from email.mime.base import MIMEBase\n",
    "from email import encoders\n",
    "import os"
   ]
  },
  {
   "cell_type": "code",
   "execution_count": null,
   "metadata": {},
   "outputs": [],
   "source": [
    "emails_list = []\n",
    "\n",
    "with open('emails_list.txt', 'r') as elf:\n",
    "    emails_list = elf.readlines()\n",
    "emails_list = [e.strip('\\n') for e in emails_list]"
   ]
  },
  {
   "cell_type": "code",
   "execution_count": null,
   "metadata": {},
   "outputs": [],
   "source": [
    "def send(address_to):\n",
    "    '''\n",
    "    Send generated files by email\n",
    "    '''\n",
    "    fname = 'parsed_deposit_auctions.xlsx'\n",
    "\n",
    "    print('Формируется email...')\n",
    "    address = \"forrncb@yandex.ru\"\n",
    "\n",
    "    # Compose message\n",
    "    msg = MIMEMultipart()\n",
    "    msg['From'] = address\n",
    "    msg['To'] = address_to\n",
    "    msg['Subject'] = 'Предстоящие аукционы'\n",
    "\n",
    "    # Add attachment\n",
    "    attachment = MIMEBase('application', 'octet-stream')\n",
    "    with open(fname, 'rb') as file:\n",
    "        attachment.set_payload(file.read())\n",
    "    encoders.encode_base64(attachment)\n",
    "    attachment.add_header('Content-Disposition',\n",
    "                          'attachment',\n",
    "                          filename=os.path.basename(fname))\n",
    "    msg.attach(attachment)\n",
    "\n",
    "    # Send mail\n",
    "    with open('sendmail_pswd', 'r') as pf:\n",
    "        pswd = pf.readline()\n",
    "    \n",
    "    smtp = SMTP_SSL('smtp.yandex.ru')\n",
    "    smtp.login(address, pswd)\n",
    "    smtp.sendmail(address, address_to, msg.as_string())\n",
    "    smtp.quit()\n",
    "    print('Отправлено...')"
   ]
  },
  {
   "cell_type": "code",
   "execution_count": null,
   "metadata": {},
   "outputs": [],
   "source": [
    "send(emails_list[0])\n",
    "    \n",
    "if df.shape[0]:\n",
    "    send(emails_list[1:])"
   ]
  },
  {
   "cell_type": "code",
   "execution_count": null,
   "metadata": {},
   "outputs": [],
   "source": []
  }
 ],
 "metadata": {
  "kernelspec": {
   "display_name": "Python 3",
   "language": "python",
   "name": "python3"
  }
 },
 "nbformat": 4,
 "nbformat_minor": 4
}
